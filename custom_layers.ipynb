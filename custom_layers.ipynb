{
 "cells": [
  {
   "cell_type": "code",
   "execution_count": 1,
   "metadata": {
    "collapsed": true,
    "pycharm": {
     "is_executing": false
    }
   },
   "outputs": [],
   "source": [
    "import tensorflow as tf"
   ]
  },
  {
   "cell_type": "code",
   "execution_count": 2,
   "outputs": [],
   "source": [
    "layer = tf.keras.layers.Dense(100)\n",
    "layer = tf.keras.layers.Dense(10, input_shape=(None, 5))\n"
   ],
   "metadata": {
    "collapsed": false,
    "pycharm": {
     "name": "#%%\n",
     "is_executing": false
    }
   }
  },
  {
   "cell_type": "code",
   "execution_count": 3,
   "outputs": [
    {
     "data": {
      "text/plain": "<tf.Tensor: shape=(10, 10), dtype=float32, numpy=\narray([[0., 0., 0., 0., 0., 0., 0., 0., 0., 0.],\n       [0., 0., 0., 0., 0., 0., 0., 0., 0., 0.],\n       [0., 0., 0., 0., 0., 0., 0., 0., 0., 0.],\n       [0., 0., 0., 0., 0., 0., 0., 0., 0., 0.],\n       [0., 0., 0., 0., 0., 0., 0., 0., 0., 0.],\n       [0., 0., 0., 0., 0., 0., 0., 0., 0., 0.],\n       [0., 0., 0., 0., 0., 0., 0., 0., 0., 0.],\n       [0., 0., 0., 0., 0., 0., 0., 0., 0., 0.],\n       [0., 0., 0., 0., 0., 0., 0., 0., 0., 0.],\n       [0., 0., 0., 0., 0., 0., 0., 0., 0., 0.]], dtype=float32)>"
     },
     "metadata": {},
     "output_type": "execute_result",
     "execution_count": 3
    }
   ],
   "source": [
    "layer(tf.zeros([10, 5]))"
   ],
   "metadata": {
    "collapsed": false,
    "pycharm": {
     "name": "#%%\n",
     "is_executing": false
    }
   }
  },
  {
   "cell_type": "code",
   "execution_count": 4,
   "outputs": [
    {
     "data": {
      "text/plain": "[<tf.Variable 'dense_1/kernel:0' shape=(5, 10) dtype=float32, numpy=\n array([[ 0.02504957,  0.31316555,  0.25598943, -0.29580352,  0.40977222,\n         -0.01587898, -0.4272775 , -0.02527529, -0.1063332 , -0.54848576],\n        [ 0.00183225,  0.3725322 , -0.5736945 , -0.1623019 ,  0.53005356,\n          0.32091248,  0.24036336,  0.5365351 ,  0.50276476,  0.44644493],\n        [ 0.45659572,  0.01288265,  0.56845635,  0.52243394,  0.08189827,\n          0.44678253,  0.00106639,  0.24607718,  0.61886126, -0.00960737],\n        [-0.5658538 ,  0.43991834, -0.03462362, -0.31683606,  0.44828814,\n          0.08727694, -0.56542116, -0.2808534 ,  0.20621157, -0.40483946],\n        [ 0.01973003, -0.2953979 ,  0.45602947, -0.51577187,  0.3678084 ,\n         -0.3165622 , -0.13343573,  0.234613  , -0.52645046,  0.14998287]],\n       dtype=float32)>,\n <tf.Variable 'dense_1/bias:0' shape=(10,) dtype=float32, numpy=array([0., 0., 0., 0., 0., 0., 0., 0., 0., 0.], dtype=float32)>]"
     },
     "metadata": {},
     "output_type": "execute_result",
     "execution_count": 4
    }
   ],
   "source": [
    "layer.variables"
   ],
   "metadata": {
    "collapsed": false,
    "pycharm": {
     "name": "#%%\n",
     "is_executing": false
    }
   }
  },
  {
   "cell_type": "code",
   "execution_count": 5,
   "outputs": [
    {
     "data": {
      "text/plain": "[<tf.Variable 'dense_1/kernel:0' shape=(5, 10) dtype=float32, numpy=\n array([[ 0.02504957,  0.31316555,  0.25598943, -0.29580352,  0.40977222,\n         -0.01587898, -0.4272775 , -0.02527529, -0.1063332 , -0.54848576],\n        [ 0.00183225,  0.3725322 , -0.5736945 , -0.1623019 ,  0.53005356,\n          0.32091248,  0.24036336,  0.5365351 ,  0.50276476,  0.44644493],\n        [ 0.45659572,  0.01288265,  0.56845635,  0.52243394,  0.08189827,\n          0.44678253,  0.00106639,  0.24607718,  0.61886126, -0.00960737],\n        [-0.5658538 ,  0.43991834, -0.03462362, -0.31683606,  0.44828814,\n          0.08727694, -0.56542116, -0.2808534 ,  0.20621157, -0.40483946],\n        [ 0.01973003, -0.2953979 ,  0.45602947, -0.51577187,  0.3678084 ,\n         -0.3165622 , -0.13343573,  0.234613  , -0.52645046,  0.14998287]],\n       dtype=float32)>,\n <tf.Variable 'dense_1/bias:0' shape=(10,) dtype=float32, numpy=array([0., 0., 0., 0., 0., 0., 0., 0., 0., 0.], dtype=float32)>]"
     },
     "metadata": {},
     "output_type": "execute_result",
     "execution_count": 5
    }
   ],
   "source": [
    "layer.trainable_variables"
   ],
   "metadata": {
    "collapsed": false,
    "pycharm": {
     "name": "#%%\n",
     "is_executing": false
    }
   }
  },
  {
   "cell_type": "code",
   "execution_count": 6,
   "outputs": [
    {
     "data": {
      "text/plain": "[<tf.Variable 'dense_1/kernel:0' shape=(5, 10) dtype=float32, numpy=\n array([[ 0.02504957,  0.31316555,  0.25598943, -0.29580352,  0.40977222,\n         -0.01587898, -0.4272775 , -0.02527529, -0.1063332 , -0.54848576],\n        [ 0.00183225,  0.3725322 , -0.5736945 , -0.1623019 ,  0.53005356,\n          0.32091248,  0.24036336,  0.5365351 ,  0.50276476,  0.44644493],\n        [ 0.45659572,  0.01288265,  0.56845635,  0.52243394,  0.08189827,\n          0.44678253,  0.00106639,  0.24607718,  0.61886126, -0.00960737],\n        [-0.5658538 ,  0.43991834, -0.03462362, -0.31683606,  0.44828814,\n          0.08727694, -0.56542116, -0.2808534 ,  0.20621157, -0.40483946],\n        [ 0.01973003, -0.2953979 ,  0.45602947, -0.51577187,  0.3678084 ,\n         -0.3165622 , -0.13343573,  0.234613  , -0.52645046,  0.14998287]],\n       dtype=float32)>,\n <tf.Variable 'dense_1/bias:0' shape=(10,) dtype=float32, numpy=array([0., 0., 0., 0., 0., 0., 0., 0., 0., 0.], dtype=float32)>]"
     },
     "metadata": {},
     "output_type": "execute_result",
     "execution_count": 6
    }
   ],
   "source": [
    "layer.weights"
   ],
   "metadata": {
    "collapsed": false,
    "pycharm": {
     "name": "#%%\n",
     "is_executing": false
    }
   }
  },
  {
   "cell_type": "code",
   "execution_count": 7,
   "outputs": [
    {
     "data": {
      "text/plain": "<tf.Variable 'dense_1/kernel:0' shape=(5, 10) dtype=float32, numpy=\narray([[ 0.02504957,  0.31316555,  0.25598943, -0.29580352,  0.40977222,\n        -0.01587898, -0.4272775 , -0.02527529, -0.1063332 , -0.54848576],\n       [ 0.00183225,  0.3725322 , -0.5736945 , -0.1623019 ,  0.53005356,\n         0.32091248,  0.24036336,  0.5365351 ,  0.50276476,  0.44644493],\n       [ 0.45659572,  0.01288265,  0.56845635,  0.52243394,  0.08189827,\n         0.44678253,  0.00106639,  0.24607718,  0.61886126, -0.00960737],\n       [-0.5658538 ,  0.43991834, -0.03462362, -0.31683606,  0.44828814,\n         0.08727694, -0.56542116, -0.2808534 ,  0.20621157, -0.40483946],\n       [ 0.01973003, -0.2953979 ,  0.45602947, -0.51577187,  0.3678084 ,\n        -0.3165622 , -0.13343573,  0.234613  , -0.52645046,  0.14998287]],\n      dtype=float32)>"
     },
     "metadata": {},
     "output_type": "execute_result",
     "execution_count": 7
    }
   ],
   "source": [
    "layer.kernel"
   ],
   "metadata": {
    "collapsed": false,
    "pycharm": {
     "name": "#%%\n",
     "is_executing": false
    }
   }
  },
  {
   "cell_type": "code",
   "execution_count": 8,
   "outputs": [
    {
     "data": {
      "text/plain": "<tf.Variable 'dense_1/bias:0' shape=(10,) dtype=float32, numpy=array([0., 0., 0., 0., 0., 0., 0., 0., 0., 0.], dtype=float32)>"
     },
     "metadata": {},
     "output_type": "execute_result",
     "execution_count": 8
    }
   ],
   "source": [
    "layer.bias"
   ],
   "metadata": {
    "collapsed": false,
    "pycharm": {
     "name": "#%%\n",
     "is_executing": false
    }
   }
  },
  {
   "cell_type": "code",
   "execution_count": 9,
   "outputs": [],
   "source": [
    "class CustomDense(tf.keras.layers.Layer):\n",
    "    \n",
    "    def __init__(self, output_units):\n",
    "        super(CustomDense, self).__init__()\n",
    "        self.output_units = output_units\n",
    "        \n",
    "    def build(self, input_shape):\n",
    "        self.kernel = self.add_weight(name=\"kernel\", shape=[int(input_shape[-1]), self.output_units])\n",
    "        # int(input_shape[-1]), self.output_units] since matrix multiplication.\n",
    "        \n",
    "    def call(self, input):\n",
    "        return tf.matmul(input, self.kernel)     "
   ],
   "metadata": {
    "collapsed": false,
    "pycharm": {
     "name": "#%%\n",
     "is_executing": false
    }
   }
  },
  {
   "cell_type": "code",
   "execution_count": 10,
   "outputs": [],
   "source": [
    "layer = CustomDense(10)"
   ],
   "metadata": {
    "collapsed": false,
    "pycharm": {
     "name": "#%%\n",
     "is_executing": false
    }
   }
  },
  {
   "cell_type": "code",
   "execution_count": 11,
   "outputs": [
    {
     "name": "stdout",
     "text": [
      "['custom_dense/kernel:0']\n"
     ],
     "output_type": "stream"
    }
   ],
   "source": [
    "_ = layer(tf.zeros([10, 5])) # Calling the layer `.builds` it.\n",
    "print([var.name for var in layer.trainable_variables])\n"
   ],
   "metadata": {
    "collapsed": false,
    "pycharm": {
     "name": "#%%\n",
     "is_executing": false
    }
   }
  },
  {
   "cell_type": "code",
   "execution_count": 15,
   "outputs": [],
   "source": [
    "#RESNET\n",
    "\n",
    "class ResidualBlock(tf.keras.models.Model):\n",
    "    \n",
    "    def __init__(self, filters, kernel_size):\n",
    "        super(ResidualBlock, self).__init__()\n",
    "        self.filter1, self.filter2, self.filter3 = filters\n",
    "        \n",
    "        self.conv1 = tf.keras.layers.Conv2D(self.filter1, kernel_size, name=\"Conv1\")\n",
    "        self.batch_norm1 = tf.keras.layers.BatchNormalization(name=\"BatchNorm1\")\n",
    "        \n",
    "        self.conv2 = tf.keras.layers.Conv2D(self.filter2, kernel_size, name=\"Conv2\")\n",
    "        self.batch_norm2 = tf.keras.layers.BatchNormalization(name=\"BatchNorm2\")\n",
    "        \n",
    "        self.conv3 = tf.keras.layers.Conv2D(self.filter3, kernel_size, name=\"Conv3\")\n",
    "        self.batch_norm3 = tf.keras.layers.BatchNormalization(name=\"BatchNorm3\")\n",
    "        \n",
    "    def call(self, input_tensor, training=False):\n",
    "        x = self.conv1(input_tensor)\n",
    "        x = self.batch_norm1(x, training=training)\n",
    "        x = tf.nn.relu(x)\n",
    "\n",
    "        x = self.conv2(x)\n",
    "        x = self.batch_norm2(x, training=training)\n",
    "        x = tf.nn.relu(x)\n",
    "\n",
    "        x = self.conv3(x)\n",
    "        x = self.batch_norm3(x, training=training)\n",
    "        x = tf.nn.relu(x)\n",
    "\n",
    "        x += input_tensor\n",
    "        return tf.nn.relu(x)"
   ],
   "metadata": {
    "collapsed": false,
    "pycharm": {
     "name": "#%%\n",
     "is_executing": false
    }
   }
  },
  {
   "cell_type": "code",
   "execution_count": 16,
   "outputs": [],
   "source": [
    "resnet = ResidualBlock([1, 2, 3], 1)"
   ],
   "metadata": {
    "collapsed": false,
    "pycharm": {
     "name": "#%%\n",
     "is_executing": false
    }
   }
  },
  {
   "cell_type": "code",
   "execution_count": 17,
   "outputs": [],
   "source": [
    "_ = resnet(tf.zeros([1, 2, 3, 3])) "
   ],
   "metadata": {
    "collapsed": false,
    "pycharm": {
     "name": "#%%\n",
     "is_executing": false
    }
   }
  },
  {
   "cell_type": "code",
   "execution_count": 19,
   "outputs": [
    {
     "data": {
      "text/plain": "[<tensorflow.python.keras.layers.convolutional.Conv2D at 0x14a62d5c0>,\n <tensorflow.python.keras.layers.normalization_v2.BatchNormalization at 0x14a62dac8>,\n <tensorflow.python.keras.layers.convolutional.Conv2D at 0x14a62d390>,\n <tensorflow.python.keras.layers.normalization_v2.BatchNormalization at 0x14a62d1d0>,\n <tensorflow.python.keras.layers.convolutional.Conv2D at 0x14be1fa58>,\n <tensorflow.python.keras.layers.normalization_v2.BatchNormalization at 0x14be1d358>]"
     },
     "metadata": {},
     "output_type": "execute_result",
     "execution_count": 19
    }
   ],
   "source": [
    "resnet.layers\n"
   ],
   "metadata": {
    "collapsed": false,
    "pycharm": {
     "name": "#%%\n",
     "is_executing": false
    }
   }
  },
  {
   "cell_type": "code",
   "execution_count": 21,
   "outputs": [
    {
     "data": {
      "text/plain": "18"
     },
     "metadata": {},
     "output_type": "execute_result",
     "execution_count": 21
    }
   ],
   "source": [
    "len(resnet.variables)\n"
   ],
   "metadata": {
    "collapsed": false,
    "pycharm": {
     "name": "#%%\n",
     "is_executing": false
    }
   }
  },
  {
   "cell_type": "code",
   "execution_count": 22,
   "outputs": [
    {
     "name": "stdout",
     "text": [
      "Model: \"residual_block\"\n",
      "_________________________________________________________________\n",
      "Layer (type)                 Output Shape              Param #   \n",
      "=================================================================\n",
      "Conv1 (Conv2D)               multiple                  4         \n",
      "_________________________________________________________________\n",
      "BatchNorm1 (BatchNormalizati multiple                  4         \n",
      "_________________________________________________________________\n",
      "Conv2 (Conv2D)               multiple                  4         \n",
      "_________________________________________________________________\n",
      "BatchNorm2 (BatchNormalizati multiple                  8         \n",
      "_________________________________________________________________\n",
      "Conv3 (Conv2D)               multiple                  9         \n",
      "_________________________________________________________________\n",
      "BatchNorm3 (BatchNormalizati multiple                  12        \n",
      "=================================================================\n",
      "Total params: 41\n",
      "Trainable params: 29\n",
      "Non-trainable params: 12\n",
      "_________________________________________________________________\n"
     ],
     "output_type": "stream"
    }
   ],
   "source": [
    "resnet.summary()\n"
   ],
   "metadata": {
    "collapsed": false,
    "pycharm": {
     "name": "#%%\n",
     "is_executing": false
    }
   }
  },
  {
   "cell_type": "code",
   "execution_count": null,
   "outputs": [],
   "source": [
    "\n"
   ],
   "metadata": {
    "collapsed": false,
    "pycharm": {
     "name": "#%%\n"
    }
   }
  }
 ],
 "metadata": {
  "kernelspec": {
   "display_name": "Python 3",
   "language": "python",
   "name": "python3"
  },
  "language_info": {
   "codemirror_mode": {
    "name": "ipython",
    "version": 2
   },
   "file_extension": ".py",
   "mimetype": "text/x-python",
   "name": "python",
   "nbconvert_exporter": "python",
   "pygments_lexer": "ipython2",
   "version": "2.7.6"
  },
  "pycharm": {
   "stem_cell": {
    "cell_type": "raw",
    "source": [],
    "metadata": {
     "collapsed": false
    }
   }
  }
 },
 "nbformat": 4,
 "nbformat_minor": 0
}