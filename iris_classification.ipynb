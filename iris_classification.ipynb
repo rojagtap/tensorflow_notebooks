{
 "cells": [
  {
   "cell_type": "code",
   "execution_count": 1,
   "metadata": {
    "collapsed": true,
    "pycharm": {
     "is_executing": false
    }
   },
   "outputs": [],
   "source": [
    "import tensorflow as tf\n",
    "import os\n",
    "import pandas as pd\n",
    "import matplotlib.pyplot as plt"
   ]
  },
  {
   "cell_type": "code",
   "execution_count": 2,
   "outputs": [],
   "source": [
    "column_names = ['sepal_length', 'sepal_width', 'petal_length', 'petal_width', 'species']\n",
    "class_names = ['Iris setosa', 'Iris versicolor', 'Iris virginica']\n"
   ],
   "metadata": {
    "collapsed": false,
    "pycharm": {
     "name": "#%%\n",
     "is_executing": false
    }
   }
  },
  {
   "cell_type": "code",
   "execution_count": 3,
   "outputs": [
    {
     "name": "stdout",
     "text": [
      "Local copy of the dataset file: /Users/rjagtap/.keras/datasets/iris_training.csv\n"
     ],
     "output_type": "stream"
    }
   ],
   "source": [
    "train_dataset_url = \"https://storage.googleapis.com/download.tensorflow.org/data/iris_training.csv\"\n",
    "\n",
    "train_dataset_fp = tf.keras.utils.get_file(fname=os.path.basename(train_dataset_url), origin=train_dataset_url)\n",
    "\n",
    "print(\"Local copy of the dataset file: {}\".format(train_dataset_fp))\n"
   ],
   "metadata": {
    "collapsed": false,
    "pycharm": {
     "name": "#%%\n",
     "is_executing": false
    }
   }
  },
  {
   "cell_type": "code",
   "execution_count": 4,
   "outputs": [],
   "source": [
    "train = pd.read_csv(train_dataset_fp)"
   ],
   "metadata": {
    "collapsed": false,
    "pycharm": {
     "name": "#%%\n",
     "is_executing": false
    }
   }
  },
  {
   "cell_type": "code",
   "execution_count": 5,
   "outputs": [
    {
     "data": {
      "text/plain": "   120    4  setosa  versicolor  virginica\n0  6.4  2.8     5.6         2.2          2\n1  5.0  2.3     3.3         1.0          1\n2  4.9  2.5     4.5         1.7          2\n3  4.9  3.1     1.5         0.1          0\n4  5.7  3.8     1.7         0.3          0",
      "text/html": "<div>\n<style scoped>\n    .dataframe tbody tr th:only-of-type {\n        vertical-align: middle;\n    }\n\n    .dataframe tbody tr th {\n        vertical-align: top;\n    }\n\n    .dataframe thead th {\n        text-align: right;\n    }\n</style>\n<table border=\"1\" class=\"dataframe\">\n  <thead>\n    <tr style=\"text-align: right;\">\n      <th></th>\n      <th>120</th>\n      <th>4</th>\n      <th>setosa</th>\n      <th>versicolor</th>\n      <th>virginica</th>\n    </tr>\n  </thead>\n  <tbody>\n    <tr>\n      <th>0</th>\n      <td>6.4</td>\n      <td>2.8</td>\n      <td>5.6</td>\n      <td>2.2</td>\n      <td>2</td>\n    </tr>\n    <tr>\n      <th>1</th>\n      <td>5.0</td>\n      <td>2.3</td>\n      <td>3.3</td>\n      <td>1.0</td>\n      <td>1</td>\n    </tr>\n    <tr>\n      <th>2</th>\n      <td>4.9</td>\n      <td>2.5</td>\n      <td>4.5</td>\n      <td>1.7</td>\n      <td>2</td>\n    </tr>\n    <tr>\n      <th>3</th>\n      <td>4.9</td>\n      <td>3.1</td>\n      <td>1.5</td>\n      <td>0.1</td>\n      <td>0</td>\n    </tr>\n    <tr>\n      <th>4</th>\n      <td>5.7</td>\n      <td>3.8</td>\n      <td>1.7</td>\n      <td>0.3</td>\n      <td>0</td>\n    </tr>\n  </tbody>\n</table>\n</div>"
     },
     "metadata": {},
     "output_type": "execute_result",
     "execution_count": 5
    }
   ],
   "source": [
    "train.head()"
   ],
   "metadata": {
    "collapsed": false,
    "pycharm": {
     "name": "#%%\n",
     "is_executing": false
    }
   }
  },
  {
   "cell_type": "code",
   "execution_count": 6,
   "outputs": [],
   "source": [
    "train.columns = column_names"
   ],
   "metadata": {
    "collapsed": false,
    "pycharm": {
     "name": "#%%\n",
     "is_executing": false
    }
   }
  },
  {
   "cell_type": "code",
   "execution_count": 7,
   "outputs": [
    {
     "data": {
      "text/plain": "   sepal_length  sepal_width  petal_length  petal_width  species\n0           6.4          2.8           5.6          2.2        2\n1           5.0          2.3           3.3          1.0        1\n2           4.9          2.5           4.5          1.7        2\n3           4.9          3.1           1.5          0.1        0\n4           5.7          3.8           1.7          0.3        0",
      "text/html": "<div>\n<style scoped>\n    .dataframe tbody tr th:only-of-type {\n        vertical-align: middle;\n    }\n\n    .dataframe tbody tr th {\n        vertical-align: top;\n    }\n\n    .dataframe thead th {\n        text-align: right;\n    }\n</style>\n<table border=\"1\" class=\"dataframe\">\n  <thead>\n    <tr style=\"text-align: right;\">\n      <th></th>\n      <th>sepal_length</th>\n      <th>sepal_width</th>\n      <th>petal_length</th>\n      <th>petal_width</th>\n      <th>species</th>\n    </tr>\n  </thead>\n  <tbody>\n    <tr>\n      <th>0</th>\n      <td>6.4</td>\n      <td>2.8</td>\n      <td>5.6</td>\n      <td>2.2</td>\n      <td>2</td>\n    </tr>\n    <tr>\n      <th>1</th>\n      <td>5.0</td>\n      <td>2.3</td>\n      <td>3.3</td>\n      <td>1.0</td>\n      <td>1</td>\n    </tr>\n    <tr>\n      <th>2</th>\n      <td>4.9</td>\n      <td>2.5</td>\n      <td>4.5</td>\n      <td>1.7</td>\n      <td>2</td>\n    </tr>\n    <tr>\n      <th>3</th>\n      <td>4.9</td>\n      <td>3.1</td>\n      <td>1.5</td>\n      <td>0.1</td>\n      <td>0</td>\n    </tr>\n    <tr>\n      <th>4</th>\n      <td>5.7</td>\n      <td>3.8</td>\n      <td>1.7</td>\n      <td>0.3</td>\n      <td>0</td>\n    </tr>\n  </tbody>\n</table>\n</div>"
     },
     "metadata": {},
     "output_type": "execute_result",
     "execution_count": 7
    }
   ],
   "source": [
    "train.head()"
   ],
   "metadata": {
    "collapsed": false,
    "pycharm": {
     "name": "#%%\n",
     "is_executing": false
    }
   }
  },
  {
   "cell_type": "code",
   "execution_count": 8,
   "outputs": [],
   "source": [
    "batch_size = 32"
   ],
   "metadata": {
    "collapsed": false,
    "pycharm": {
     "name": "#%%\n",
     "is_executing": false
    }
   }
  },
  {
   "cell_type": "code",
   "execution_count": 9,
   "outputs": [],
   "source": [
    "features, labels = train[column_names[:-1]], train[column_names[-1]]\n"
   ],
   "metadata": {
    "collapsed": false,
    "pycharm": {
     "name": "#%%\n",
     "is_executing": false
    }
   }
  },
  {
   "cell_type": "code",
   "execution_count": 10,
   "outputs": [],
   "source": [
    "model = tf.keras.Sequential()\n",
    "model.add(tf.keras.layers.Dense(10, activation=tf.nn.relu, input_shape=(4,)))\n",
    "model.add(tf.keras.layers.Dense(10, activation=tf.nn.relu))\n",
    "model.add(tf.keras.layers.Dense(3))\n"
   ],
   "metadata": {
    "collapsed": false,
    "pycharm": {
     "name": "#%%\n",
     "is_executing": false
    }
   }
  },
  {
   "cell_type": "code",
   "execution_count": 11,
   "outputs": [],
   "source": [
    "loss = tf.keras.losses.SparseCategoricalCrossentropy(from_logits=True)"
   ],
   "metadata": {
    "collapsed": false,
    "pycharm": {
     "name": "#%%\n",
     "is_executing": false
    }
   }
  },
  {
   "cell_type": "code",
   "execution_count": 12,
   "outputs": [],
   "source": [
    "model.compile(optimizer=tf.keras.optimizers.SGD(learning_rate=0.01), loss=loss, metrics=['acc'])"
   ],
   "metadata": {
    "collapsed": false,
    "pycharm": {
     "name": "#%%\n",
     "is_executing": false
    }
   }
  },
  {
   "cell_type": "code",
   "execution_count": 13,
   "outputs": [
    {
     "name": "stdout",
     "text": [
      "Train on 108 samples, validate on 12 samples\n",
      "Epoch 1/201\n",
      "108/108 [==============================] - 0s 3ms/sample - loss: 1.4624 - acc: 0.3426 - val_loss: 1.0602 - val_acc: 0.4167\b\b\b\b\b\b\b\b\b\b\b\b\b\b\b\b\b\b\b\b\b\b\b\b\b\b\b\b\b\b\b\b\b\b\b\b\n",
      "Epoch 2/201\n",
      "108/108 [==============================] - 0s 110us/sample - loss: 1.2381 - acc: 0.3426 - val_loss: 1.0110 - val_acc: 0.4167\b\b\b\b\b\b\b\b\b\b\b\b\b\b\b\b\b\b\b\b\b\b\b\b\b\b\b\b\b\b\b\b\b\b\n",
      "Epoch 3/201\n",
      "108/108 [==============================] - 0s 113us/sample - loss: 1.1229 - acc: 0.3426 - val_loss: 0.9907 - val_acc: 0.4167\b\b\b\b\b\b\b\b\b\b\b\b\b\b\b\b\b\b\b\b\b\b\b\b\b\b\b\b\b\b\b\b\b\b\n",
      "Epoch 4/201\n",
      "108/108 [==============================] - 0s 129us/sample - loss: 1.0357 - acc: 0.3426 - val_loss: 1.0111 - val_acc: 0.5000\b\b\b\b\b\b\b\b\b\b\b\b\b\b\b\b\b\b\b\b\b\b\b\b\b\b\b\b\b\b\b\b\b\b\n",
      "Epoch 5/201\n",
      "108/108 [==============================] - 0s 198us/sample - loss: 0.9893 - acc: 0.4907 - val_loss: 1.0040 - val_acc: 0.5833\b\b\b\b\b\b\b\b\b\b\b\b\b\b\b\b\b\b\b\b\b\b\b\b\b\b\b\b\b\b\b\b\b\b\n",
      "Epoch 6/201\n",
      "108/108 [==============================] - 0s 153us/sample - loss: 0.9514 - acc: 0.7130 - val_loss: 0.9766 - val_acc: 0.6667\b\b\b\b\b\b\b\b\b\b\b\b\b\b\b\b\b\b\b\b\b\b\b\b\b\b\b\b\b\b\b\b\b\b\n",
      "Epoch 7/201\n",
      "108/108 [==============================] - 0s 195us/sample - loss: 0.9320 - acc: 0.8333 - val_loss: 0.9864 - val_acc: 0.6667\b\b\b\b\b\b\b\b\b\b\b\b\b\b\b\b\b\b\b\b\b\b\b\b\b\b\b\b\b\b\b\b\b\b\n",
      "Epoch 8/201\n",
      "108/108 [==============================] - 0s 185us/sample - loss: 0.9166 - acc: 0.7685 - val_loss: 0.9427 - val_acc: 0.9167\b\b\b\b\b\b\b\b\b\b\b\b\b\b\b\b\b\b\b\b\b\b\b\b\b\b\b\b\b\b\b\b\b\b\n",
      "Epoch 9/201\n",
      "108/108 [==============================] - 0s 165us/sample - loss: 0.9002 - acc: 0.8889 - val_loss: 0.9703 - val_acc: 0.6667\b\b\b\b\b\b\b\b\b\b\b\b\b\b\b\b\b\b\b\b\b\b\b\b\b\b\b\b\b\b\b\b\b\b\n",
      "Epoch 10/201\n",
      "108/108 [==============================] - 0s 184us/sample - loss: 0.8871 - acc: 0.8611 - val_loss: 0.9860 - val_acc: 0.6667\b\b\b\b\b\b\b\b\b\b\b\b\b\b\b\b\b\b\b\b\b\b\b\b\b\b\b\b\b\b\b\b\b\b\n",
      "Epoch 11/201\n",
      "108/108 [==============================] - 0s 187us/sample - loss: 0.8817 - acc: 0.7778 - val_loss: 0.9801 - val_acc: 0.6667\b\b\b\b\b\b\b\b\b\b\b\b\b\b\b\b\b\b\b\b\b\b\b\b\b\b\b\b\b\b\b\b\b\b\n",
      "Epoch 12/201\n",
      "108/108 [==============================] - 0s 171us/sample - loss: 0.8749 - acc: 0.7593 - val_loss: 0.9436 - val_acc: 0.6667\b\b\b\b\b\b\b\b\b\b\b\b\b\b\b\b\b\b\b\b\b\b\b\b\b\b\b\b\b\b\b\b\b\b\n",
      "Epoch 13/201\n",
      "108/108 [==============================] - 0s 195us/sample - loss: 0.8537 - acc: 0.7963 - val_loss: 0.9282 - val_acc: 0.6667\b\b\b\b\b\b\b\b\b\b\b\b\b\b\b\b\b\b\b\b\b\b\b\b\b\b\b\b\b\b\b\b\b\b\n",
      "Epoch 14/201\n",
      "108/108 [==============================] - 0s 152us/sample - loss: 0.8451 - acc: 0.8241 - val_loss: 0.9286 - val_acc: 0.6667\b\b\b\b\b\b\b\b\b\b\b\b\b\b\b\b\b\b\b\b\b\b\b\b\b\b\b\b\b\b\b\b\b\b\n",
      "Epoch 15/201\n",
      "108/108 [==============================] - 0s 183us/sample - loss: 0.8314 - acc: 0.8426 - val_loss: 0.9270 - val_acc: 0.6667\b\b\b\b\b\b\b\b\b\b\b\b\b\b\b\b\b\b\b\b\b\b\b\b\b\b\b\b\b\b\b\b\b\b\n",
      "Epoch 16/201\n",
      "108/108 [==============================] - 0s 143us/sample - loss: 0.8206 - acc: 0.8333 - val_loss: 0.8858 - val_acc: 0.7500\b\b\b\b\b\b\b\b\b\b\b\b\b\b\b\b\b\b\b\b\b\b\b\b\b\b\b\b\b\b\b\b\b\b\n",
      "Epoch 17/201\n",
      "108/108 [==============================] - 0s 195us/sample - loss: 0.8106 - acc: 0.8796 - val_loss: 0.8695 - val_acc: 0.9167\b\b\b\b\b\b\b\b\b\b\b\b\b\b\b\b\b\b\b\b\b\b\b\b\b\b\b\b\b\b\b\b\b\b\n",
      "Epoch 18/201\n",
      "108/108 [==============================] - 0s 218us/sample - loss: 0.8002 - acc: 0.9352 - val_loss: 0.9569 - val_acc: 0.5833\b\b\b\b\b\b\b\b\b\b\b\b\b\b\b\b\b\b\b\b\b\b\b\b\b\b\b\b\b\b\b\b\b\b\n",
      "Epoch 19/201\n",
      "108/108 [==============================] - 0s 178us/sample - loss: 0.8008 - acc: 0.7963 - val_loss: 0.9023 - val_acc: 0.6667\b\b\b\b\b\b\b\b\b\b\b\b\b\b\b\b\b\b\b\b\b\b\b\b\b\b\b\b\b\b\b\b\b\b\n",
      "Epoch 20/201\n",
      "108/108 [==============================] - 0s 144us/sample - loss: 0.7843 - acc: 0.8056 - val_loss: 0.8526 - val_acc: 0.7500\b\b\b\b\b\b\b\b\b\b\b\b\b\b\b\b\b\b\b\b\b\b\b\b\b\b\b\b\b\b\b\b\b\b\n",
      "Epoch 21/201\n",
      "108/108 [==============================] - 0s 197us/sample - loss: 0.7740 - acc: 0.8981 - val_loss: 0.8508 - val_acc: 0.7500\b\b\b\b\b\b\b\b\b\b\b\b\b\b\b\b\b\b\b\b\b\b\b\b\b\b\b\b\b\b\b\b\b\b\n",
      "Epoch 22/201\n",
      "108/108 [==============================] - 0s 187us/sample - loss: 0.7590 - acc: 0.8796 - val_loss: 0.8324 - val_acc: 0.7500\b\b\b\b\b\b\b\b\b\b\b\b\b\b\b\b\b\b\b\b\b\b\b\b\b\b\b\b\b\b\b\b\b\b\n",
      "Epoch 23/201\n",
      "108/108 [==============================] - 0s 138us/sample - loss: 0.7477 - acc: 0.8704 - val_loss: 0.8157 - val_acc: 0.9167\b\b\b\b\b\b\b\b\b\b\b\b\b\b\b\b\b\b\b\b\b\b\b\b\b\b\b\b\b\b\b\b\b\b\n",
      "Epoch 24/201\n",
      "108/108 [==============================] - 0s 207us/sample - loss: 0.7448 - acc: 0.8426 - val_loss: 0.7892 - val_acc: 0.9167\b\b\b\b\b\b\b\b\b\b\b\b\b\b\b\b\b\b\b\b\b\b\b\b\b\b\b\b\b\b\b\b\b\b\n",
      "Epoch 25/201\n",
      "108/108 [==============================] - 0s 160us/sample - loss: 0.7371 - acc: 0.8981 - val_loss: 0.7976 - val_acc: 0.7500\b\b\b\b\b\b\b\b\b\b\b\b\b\b\b\b\b\b\b\b\b\b\b\b\b\b\b\b\b\b\b\b\b\b\n",
      "Epoch 26/201\n",
      "108/108 [==============================] - 0s 154us/sample - loss: 0.7305 - acc: 0.8519 - val_loss: 0.7586 - val_acc: 1.0000\b\b\b\b\b\b\b\b\b\b\b\b\b\b\b\b\b\b\b\b\b\b\b\b\b\b\b\b\b\b\b\b\b\b\n",
      "Epoch 27/201\n",
      "108/108 [==============================] - 0s 289us/sample - loss: 0.7141 - acc: 0.8981 - val_loss: 0.7570 - val_acc: 1.0000\b\b\b\b\b\b\b\b\b\b\b\b\b\b\b\b\b\b\b\b\b\b\b\b\b\b\b\b\b\b\b\b\b\b\n",
      "Epoch 28/201\n",
      "108/108 [==============================] - 0s 161us/sample - loss: 0.6998 - acc: 0.8796 - val_loss: 0.7333 - val_acc: 0.9167\b\b\b\b\b\b\b\b\b\b\b\b\b\b\b\b\b\b\b\b\b\b\b\b\b\b\b\b\b\b\b\b\b\b\n",
      "Epoch 29/201\n",
      "108/108 [==============================] - 0s 173us/sample - loss: 0.6971 - acc: 0.9074 - val_loss: 0.7338 - val_acc: 1.0000\b\b\b\b\b\b\b\b\b\b\b\b\b\b\b\b\b\b\b\b\b\b\b\b\b\b\b\b\b\b\b\b\b\b\n",
      "Epoch 30/201\n",
      "108/108 [==============================] - 0s 171us/sample - loss: 0.6733 - acc: 0.9444 - val_loss: 0.7528 - val_acc: 0.7500\b\b\b\b\b\b\b\b\b\b\b\b\b\b\b\b\b\b\b\b\b\b\b\b\b\b\b\b\b\b\b\b\b\b\n",
      "Epoch 31/201\n",
      "108/108 [==============================] - 0s 100us/sample - loss: 0.6629 - acc: 0.8796 - val_loss: 0.7008 - val_acc: 0.9167\b\b\b\b\b\b\b\b\b\b\b\b\b\b\b\b\b\b\b\b\b\b\b\b\b\b\b\b\b\b\b\b\b\b\n",
      "Epoch 32/201\n",
      "108/108 [==============================] - 0s 132us/sample - loss: 0.6652 - acc: 0.9167 - val_loss: 0.7062 - val_acc: 0.9167\b\b\b\b\b\b\b\b\b\b\b\b\b\b\b\b\b\b\b\b\b\b\b\b\b\b\b\b\b\b\b\b\b\b\n",
      "Epoch 33/201\n",
      "108/108 [==============================] - 0s 167us/sample - loss: 0.6535 - acc: 0.8889 - val_loss: 0.6827 - val_acc: 1.0000\b\b\b\b\b\b\b\b\b\b\b\b\b\b\b\b\b\b\b\b\b\b\b\b\b\b\b\b\b\b\b\b\b\b\n",
      "Epoch 34/201\n",
      "108/108 [==============================] - 0s 163us/sample - loss: 0.6237 - acc: 0.9167 - val_loss: 0.6852 - val_acc: 0.9167\b\b\b\b\b\b\b\b\b\b\b\b\b\b\b\b\b\b\b\b\b\b\b\b\b\b\b\b\b\b\b\b\b\b\n",
      "Epoch 35/201\n",
      "108/108 [==============================] - 0s 160us/sample - loss: 0.6102 - acc: 0.9444 - val_loss: 0.6892 - val_acc: 0.7500\b\b\b\b\b\b\b\b\b\b\b\b\b\b\b\b\b\b\b\b\b\b\b\b\b\b\b\b\b\b\b\b\b\b\n",
      "Epoch 36/201\n",
      "108/108 [==============================] - 0s 136us/sample - loss: 0.6031 - acc: 0.8796 - val_loss: 0.6373 - val_acc: 0.9167\b\b\b\b\b\b\b\b\b\b\b\b\b\b\b\b\b\b\b\b\b\b\b\b\b\b\b\b\b\b\b\b\b\b\n",
      "Epoch 37/201\n",
      "108/108 [==============================] - 0s 152us/sample - loss: 0.6035 - acc: 0.9074 - val_loss: 0.6109 - val_acc: 0.9167\b\b\b\b\b\b\b\b\b\b\b\b\b\b\b\b\b\b\b\b\b\b\b\b\b\b\b\b\b\b\b\b\b\b\n",
      "Epoch 38/201\n",
      "108/108 [==============================] - 0s 191us/sample - loss: 0.5966 - acc: 0.8704 - val_loss: 0.6208 - val_acc: 1.0000\b\b\b\b\b\b\b\b\b\b\b\b\b\b\b\b\b\b\b\b\b\b\b\b\b\b\b\b\b\b\b\b\b\b\n",
      "Epoch 39/201\n",
      "108/108 [==============================] - 0s 146us/sample - loss: 0.5768 - acc: 0.8981 - val_loss: 0.6083 - val_acc: 1.0000\b\b\b\b\b\b\b\b\b\b\b\b\b\b\b\b\b\b\b\b\b\b\b\b\b\b\b\b\b\b\b\b\b\b\n",
      "Epoch 40/201\n",
      "108/108 [==============================] - 0s 198us/sample - loss: 0.5544 - acc: 0.9167 - val_loss: 0.6256 - val_acc: 0.9167\b\b\b\b\b\b\b\b\b\b\b\b\b\b\b\b\b\b\b\b\b\b\b\b\b\b\b\b\b\b\b\b\b\b\n",
      "Epoch 41/201\n",
      "108/108 [==============================] - 0s 170us/sample - loss: 0.5549 - acc: 0.9352 - val_loss: 0.6598 - val_acc: 0.6667\b\b\b\b\b\b\b\b\b\b\b\b\b\b\b\b\b\b\b\b\b\b\b\b\b\b\b\b\b\b\b\b\b\b\n",
      "Epoch 42/201\n",
      "108/108 [==============================] - 0s 183us/sample - loss: 0.5422 - acc: 0.8889 - val_loss: 0.6095 - val_acc: 0.7500\b\b\b\b\b\b\b\b\b\b\b\b\b\b\b\b\b\b\b\b\b\b\b\b\b\b\b\b\b\b\b\b\b\b\n",
      "Epoch 43/201\n",
      "108/108 [==============================] - 0s 260us/sample - loss: 0.5254 - acc: 0.8981 - val_loss: 0.5830 - val_acc: 0.9167\b\b\b\b\b\b\b\b\b\b\b\b\b\b\b\b\b\b\b\b\b\b\b\b\b\b\b\b\b\b\b\b\b\b\n",
      "Epoch 44/201\n",
      "108/108 [==============================] - 0s 195us/sample - loss: 0.5182 - acc: 0.9259 - val_loss: 0.5724 - val_acc: 0.9167\b\b\b\b\b\b\b\b\b\b\b\b\b\b\b\b\b\b\b\b\b\b\b\b\b\b\b\b\b\b\b\b\b\b\n",
      "Epoch 45/201\n",
      "108/108 [==============================] - 0s 212us/sample - loss: 0.5019 - acc: 0.9444 - val_loss: 0.6501 - val_acc: 0.6667\b\b\b\b\b\b\b\b\b\b\b\b\b\b\b\b\b\b\b\b\b\b\b\b\b\b\b\b\b\b\b\b\b\b\n",
      "Epoch 46/201\n",
      "108/108 [==============================] - 0s 160us/sample - loss: 0.5058 - acc: 0.8704 - val_loss: 0.6175 - val_acc: 0.6667\b\b\b\b\b\b\b\b\b\b\b\b\b\b\b\b\b\b\b\b\b\b\b\b\b\b\b\b\b\b\b\b\b\b\n",
      "Epoch 47/201\n",
      "108/108 [==============================] - 0s 150us/sample - loss: 0.4869 - acc: 0.8796 - val_loss: 0.5478 - val_acc: 0.9167\b\b\b\b\b\b\b\b\b\b\b\b\b\b\b\b\b\b\b\b\b\b\b\b\b\b\b\b\b\b\b\b\b\b\n",
      "Epoch 48/201\n",
      "108/108 [==============================] - 0s 145us/sample - loss: 0.4841 - acc: 0.9259 - val_loss: 0.6170 - val_acc: 0.6667\b\b\b\b\b\b\b\b\b\b\b\b\b\b\b\b\b\b\b\b\b\b\b\b\b\b\b\b\b\b\b\b\b\b\n",
      "Epoch 49/201\n",
      "108/108 [==============================] - 0s 162us/sample - loss: 0.4744 - acc: 0.8519 - val_loss: 0.5400 - val_acc: 0.9167\b\b\b\b\b\b\b\b\b\b\b\b\b\b\b\b\b\b\b\b\b\b\b\b\b\b\b\b\b\b\b\b\b\b\n",
      "Epoch 50/201\n",
      "108/108 [==============================] - 0s 172us/sample - loss: 0.4598 - acc: 0.8981 - val_loss: 0.5336 - val_acc: 0.9167\b\b\b\b\b\b\b\b\b\b\b\b\b\b\b\b\b\b\b\b\b\b\b\b\b\b\b\b\b\b\b\b\b\b\n",
      "Epoch 51/201\n",
      "108/108 [==============================] - 0s 175us/sample - loss: 0.4533 - acc: 0.8889 - val_loss: 0.5208 - val_acc: 0.9167\b\b\b\b\b\b\b\b\b\b\b\b\b\b\b\b\b\b\b\b\b\b\b\b\b\b\b\b\b\b\b\b\b\b\n",
      "Epoch 52/201\n",
      "108/108 [==============================] - 0s 183us/sample - loss: 0.4490 - acc: 0.8889 - val_loss: 0.4985 - val_acc: 0.9167\b\b\b\b\b\b\b\b\b\b\b\b\b\b\b\b\b\b\b\b\b\b\b\b\b\b\b\b\b\b\b\b\b\b\n",
      "Epoch 53/201\n",
      "108/108 [==============================] - 0s 204us/sample - loss: 0.4381 - acc: 0.9259 - val_loss: 0.5319 - val_acc: 0.7500\b\b\b\b\b\b\b\b\b\b\b\b\b\b\b\b\b\b\b\b\b\b\b\b\b\b\b\b\b\b\b\b\b\b\n",
      "Epoch 54/201\n",
      "108/108 [==============================] - 0s 171us/sample - loss: 0.4296 - acc: 0.8796 - val_loss: 0.4520 - val_acc: 0.9167\b\b\b\b\b\b\b\b\b\b\b\b\b\b\b\b\b\b\b\b\b\b\b\b\b\b\b\b\b\b\b\b\b\b\n",
      "Epoch 55/201\n",
      "108/108 [==============================] - 0s 100us/sample - loss: 0.4471 - acc: 0.8981 - val_loss: 0.4651 - val_acc: 0.9167\b\b\b\b\b\b\b\b\b\b\b\b\b\b\b\b\b\b\b\b\b\b\b\b\b\b\b\b\b\b\b\b\b\b\n",
      "Epoch 56/201\n",
      "108/108 [==============================] - 0s 148us/sample - loss: 0.4158 - acc: 0.9537 - val_loss: 0.4494 - val_acc: 1.0000\b\b\b\b\b\b\b\b\b\b\b\b\b\b\b\b\b\b\b\b\b\b\b\b\b\b\b\b\b\b\b\b\b\b\n",
      "Epoch 57/201\n",
      "108/108 [==============================] - 0s 203us/sample - loss: 0.4301 - acc: 0.8981 - val_loss: 0.5136 - val_acc: 0.7500\b\b\b\b\b\b\b\b\b\b\b\b\b\b\b\b\b\b\b\b\b\b\b\b\b\b\b\b\b\b\b\b\b\b\n",
      "Epoch 58/201\n",
      "108/108 [==============================] - 0s 240us/sample - loss: 0.4098 - acc: 0.8704 - val_loss: 0.4589 - val_acc: 0.9167\b\b\b\b\b\b\b\b\b\b\b\b\b\b\b\b\b\b\b\b\b\b\b\b\b\b\b\b\b\b\b\b\b\b\n",
      "Epoch 59/201\n",
      "108/108 [==============================] - 0s 205us/sample - loss: 0.3955 - acc: 0.9074 - val_loss: 0.4408 - val_acc: 0.9167\b\b\b\b\b\b\b\b\b\b\b\b\b\b\b\b\b\b\b\b\b\b\b\b\b\b\b\b\b\b\b\b\b\b\n",
      "Epoch 60/201\n",
      "108/108 [==============================] - 0s 184us/sample - loss: 0.3929 - acc: 0.9352 - val_loss: 0.4838 - val_acc: 0.7500\b\b\b\b\b\b\b\b\b\b\b\b\b\b\b\b\b\b\b\b\b\b\b\b\b\b\b\b\b\b\b\b\b\b\n",
      "Epoch 61/201\n",
      "108/108 [==============================] - 0s 236us/sample - loss: 0.3904 - acc: 0.8889 - val_loss: 0.4109 - val_acc: 1.0000\b\b\b\b\b\b\b\b\b\b\b\b\b\b\b\b\b\b\b\b\b\b\b\b\b\b\b\b\b\b\b\b\b\b\n",
      "Epoch 62/201\n",
      "108/108 [==============================] - 0s 189us/sample - loss: 0.3903 - acc: 0.9352 - val_loss: 0.4117 - val_acc: 1.0000\b\b\b\b\b\b\b\b\b\b\b\b\b\b\b\b\b\b\b\b\b\b\b\b\b\b\b\b\b\b\b\b\b\b\n",
      "Epoch 63/201\n",
      "108/108 [==============================] - 0s 175us/sample - loss: 0.3754 - acc: 0.9167 - val_loss: 0.3887 - val_acc: 0.9167\b\b\b\b\b\b\b\b\b\b\b\b\b\b\b\b\b\b\b\b\b\b\b\b\b\b\b\b\b\b\b\b\b\b\n",
      "Epoch 64/201\n",
      "108/108 [==============================] - 0s 198us/sample - loss: 0.3958 - acc: 0.9352 - val_loss: 0.4793 - val_acc: 0.7500\b\b\b\b\b\b\b\b\b\b\b\b\b\b\b\b\b\b\b\b\b\b\b\b\b\b\b\b\b\b\b\b\b\b\n",
      "Epoch 65/201\n",
      "108/108 [==============================] - 0s 232us/sample - loss: 0.3763 - acc: 0.8981 - val_loss: 0.4767 - val_acc: 0.7500\b\b\b\b\b\b\b\b\b\b\b\b\b\b\b\b\b\b\b\b\b\b\b\b\b\b\b\b\b\b\b\b\b\b\n",
      "Epoch 66/201\n",
      "108/108 [==============================] - 0s 198us/sample - loss: 0.3731 - acc: 0.8889 - val_loss: 0.4184 - val_acc: 0.9167\b\b\b\b\b\b\b\b\b\b\b\b\b\b\b\b\b\b\b\b\b\b\b\b\b\b\b\b\b\b\b\b\b\b\n",
      "Epoch 67/201\n",
      "108/108 [==============================] - 0s 184us/sample - loss: 0.3560 - acc: 0.9352 - val_loss: 0.4308 - val_acc: 0.9167\b\b\b\b\b\b\b\b\b\b\b\b\b\b\b\b\b\b\b\b\b\b\b\b\b\b\b\b\b\b\b\b\b\b\n",
      "Epoch 68/201\n",
      "108/108 [==============================] - 0s 141us/sample - loss: 0.3589 - acc: 0.9259 - val_loss: 0.4040 - val_acc: 0.9167\b\b\b\b\b\b\b\b\b\b\b\b\b\b\b\b\b\b\b\b\b\b\b\b\b\b\b\b\b\b\b\b\b\b\n",
      "Epoch 69/201\n",
      "108/108 [==============================] - 0s 168us/sample - loss: 0.3514 - acc: 0.9259 - val_loss: 0.4157 - val_acc: 0.9167\b\b\b\b\b\b\b\b\b\b\b\b\b\b\b\b\b\b\b\b\b\b\b\b\b\b\b\b\b\b\b\b\b\b\n",
      "Epoch 70/201\n",
      "108/108 [==============================] - 0s 179us/sample - loss: 0.3489 - acc: 0.9259 - val_loss: 0.4393 - val_acc: 0.7500\b\b\b\b\b\b\b\b\b\b\b\b\b\b\b\b\b\b\b\b\b\b\b\b\b\b\b\b\b\b\b\b\b\b\n",
      "Epoch 71/201\n",
      "108/108 [==============================] - 0s 191us/sample - loss: 0.3429 - acc: 0.9074 - val_loss: 0.3642 - val_acc: 1.0000\b\b\b\b\b\b\b\b\b\b\b\b\b\b\b\b\b\b\b\b\b\b\b\b\b\b\b\b\b\b\b\b\b\b\n",
      "Epoch 72/201\n",
      "108/108 [==============================] - 0s 168us/sample - loss: 0.3323 - acc: 0.9722 - val_loss: 0.4247 - val_acc: 0.7500\b\b\b\b\b\b\b\b\b\b\b\b\b\b\b\b\b\b\b\b\b\b\b\b\b\b\b\b\b\b\b\b\b\b\n",
      "Epoch 73/201\n",
      "108/108 [==============================] - 0s 138us/sample - loss: 0.3473 - acc: 0.9167 - val_loss: 0.3333 - val_acc: 0.9167\b\b\b\b\b\b\b\b\b\b\b\b\b\b\b\b\b\b\b\b\b\b\b\b\b\b\b\b\b\b\b\b\b\b\n",
      "Epoch 74/201\n",
      "108/108 [==============================] - 0s 95us/sample - loss: 0.3302 - acc: 0.9444 - val_loss: 0.3704 - val_acc: 0.9167\b\b\b\b\b\b\b\b\b\b\b\b\b\b\b\b\b\b\b\b\b\b\b\b\b\b\b\b\b\b\b\b\b\b\b\n",
      "Epoch 75/201\n",
      "108/108 [==============================] - 0s 179us/sample - loss: 0.3224 - acc: 0.9167 - val_loss: 0.3165 - val_acc: 0.9167\b\b\b\b\b\b\b\b\b\b\b\b\b\b\b\b\b\b\b\b\b\b\b\b\b\b\b\b\b\b\b\b\b\b\n",
      "Epoch 76/201\n",
      "108/108 [==============================] - 0s 171us/sample - loss: 0.3262 - acc: 0.9537 - val_loss: 0.3270 - val_acc: 1.0000\b\b\b\b\b\b\b\b\b\b\b\b\b\b\b\b\b\b\b\b\b\b\b\b\b\b\b\b\b\b\b\b\b\b\n",
      "Epoch 77/201\n",
      "108/108 [==============================] - 0s 161us/sample - loss: 0.3223 - acc: 0.9444 - val_loss: 0.3110 - val_acc: 0.9167\b\b\b\b\b\b\b\b\b\b\b\b\b\b\b\b\b\b\b\b\b\b\b\b\b\b\b\b\b\b\b\b\b\b\n",
      "Epoch 78/201\n",
      "108/108 [==============================] - 0s 141us/sample - loss: 0.3268 - acc: 0.9259 - val_loss: 0.3714 - val_acc: 0.9167\b\b\b\b\b\b\b\b\b\b\b\b\b\b\b\b\b\b\b\b\b\b\b\b\b\b\b\b\b\b\b\b\b\b\n",
      "Epoch 79/201\n",
      "108/108 [==============================] - 0s 187us/sample - loss: 0.3096 - acc: 0.9167 - val_loss: 0.3116 - val_acc: 1.0000\b\b\b\b\b\b\b\b\b\b\b\b\b\b\b\b\b\b\b\b\b\b\b\b\b\b\b\b\b\b\b\b\b\b\n",
      "Epoch 80/201\n",
      "108/108 [==============================] - 0s 201us/sample - loss: 0.3125 - acc: 0.9537 - val_loss: 0.3044 - val_acc: 1.0000\b\b\b\b\b\b\b\b\b\b\b\b\b\b\b\b\b\b\b\b\b\b\b\b\b\b\b\b\b\b\b\b\b\b\n",
      "Epoch 81/201\n",
      "108/108 [==============================] - 0s 202us/sample - loss: 0.3055 - acc: 0.9444 - val_loss: 0.2977 - val_acc: 0.9167\b\b\b\b\b\b\b\b\b\b\b\b\b\b\b\b\b\b\b\b\b\b\b\b\b\b\b\b\b\b\b\b\b\b\n",
      "Epoch 82/201\n",
      "108/108 [==============================] - 0s 237us/sample - loss: 0.3064 - acc: 0.9537 - val_loss: 0.2846 - val_acc: 0.9167\b\b\b\b\b\b\b\b\b\b\b\b\b\b\b\b\b\b\b\b\b\b\b\b\b\b\b\b\b\b\b\b\b\b\n",
      "Epoch 83/201\n",
      "108/108 [==============================] - 0s 175us/sample - loss: 0.3248 - acc: 0.9074 - val_loss: 0.3024 - val_acc: 1.0000\b\b\b\b\b\b\b\b\b\b\b\b\b\b\b\b\b\b\b\b\b\b\b\b\b\b\b\b\b\b\b\b\b\b\n",
      "Epoch 84/201\n",
      "108/108 [==============================] - 0s 180us/sample - loss: 0.2956 - acc: 0.9630 - val_loss: 0.3450 - val_acc: 0.9167\b\b\b\b\b\b\b\b\b\b\b\b\b\b\b\b\b\b\b\b\b\b\b\b\b\b\b\b\b\b\b\b\b\b\n",
      "Epoch 85/201\n",
      "108/108 [==============================] - 0s 146us/sample - loss: 0.2955 - acc: 0.9352 - val_loss: 0.3176 - val_acc: 0.9167\b\b\b\b\b\b\b\b\b\b\b\b\b\b\b\b\b\b\b\b\b\b\b\b\b\b\b\b\b\b\b\b\b\b\n",
      "Epoch 86/201\n",
      "108/108 [==============================] - 0s 172us/sample - loss: 0.2863 - acc: 0.9537 - val_loss: 0.3401 - val_acc: 0.9167\b\b\b\b\b\b\b\b\b\b\b\b\b\b\b\b\b\b\b\b\b\b\b\b\b\b\b\b\b\b\b\b\b\b\n",
      "Epoch 87/201\n",
      "108/108 [==============================] - 0s 154us/sample - loss: 0.2941 - acc: 0.9444 - val_loss: 0.3825 - val_acc: 0.9167\b\b\b\b\b\b\b\b\b\b\b\b\b\b\b\b\b\b\b\b\b\b\b\b\b\b\b\b\b\b\b\b\b\b\n",
      "Epoch 88/201\n",
      "108/108 [==============================] - 0s 113us/sample - loss: 0.2958 - acc: 0.9352 - val_loss: 0.3954 - val_acc: 0.7500\b\b\b\b\b\b\b\b\b\b\b\b\b\b\b\b\b\b\b\b\b\b\b\b\b\b\b\b\b\b\b\b\b\b\n",
      "Epoch 89/201\n",
      "108/108 [==============================] - 0s 103us/sample - loss: 0.2949 - acc: 0.9259 - val_loss: 0.2991 - val_acc: 0.9167\b\b\b\b\b\b\b\b\b\b\b\b\b\b\b\b\b\b\b\b\b\b\b\b\b\b\b\b\b\b\b\b\b\b\n",
      "Epoch 90/201\n",
      "108/108 [==============================] - 0s 111us/sample - loss: 0.2762 - acc: 0.9722 - val_loss: 0.3155 - val_acc: 0.9167\b\b\b\b\b\b\b\b\b\b\b\b\b\b\b\b\b\b\b\b\b\b\b\b\b\b\b\b\b\b\b\b\b\b\n",
      "Epoch 91/201\n",
      "108/108 [==============================] - 0s 218us/sample - loss: 0.2845 - acc: 0.9444 - val_loss: 0.2681 - val_acc: 1.0000\b\b\b\b\b\b\b\b\b\b\b\b\b\b\b\b\b\b\b\b\b\b\b\b\b\b\b\b\b\b\b\b\b\b\n",
      "Epoch 92/201\n",
      "108/108 [==============================] - 0s 166us/sample - loss: 0.2724 - acc: 0.9537 - val_loss: 0.3008 - val_acc: 0.9167\b\b\b\b\b\b\b\b\b\b\b\b\b\b\b\b\b\b\b\b\b\b\b\b\b\b\b\b\b\b\b\b\b\b\n",
      "Epoch 93/201\n",
      "108/108 [==============================] - 0s 158us/sample - loss: 0.2683 - acc: 0.9537 - val_loss: 0.2633 - val_acc: 1.0000\b\b\b\b\b\b\b\b\b\b\b\b\b\b\b\b\b\b\b\b\b\b\b\b\b\b\b\b\b\b\b\b\b\b\n",
      "Epoch 94/201\n",
      "108/108 [==============================] - 0s 194us/sample - loss: 0.2706 - acc: 0.9630 - val_loss: 0.3048 - val_acc: 0.9167\b\b\b\b\b\b\b\b\b\b\b\b\b\b\b\b\b\b\b\b\b\b\b\b\b\b\b\b\b\b\b\b\b\b\n",
      "Epoch 95/201\n",
      "108/108 [==============================] - 0s 162us/sample - loss: 0.2633 - acc: 0.9259 - val_loss: 0.2915 - val_acc: 0.9167\b\b\b\b\b\b\b\b\b\b\b\b\b\b\b\b\b\b\b\b\b\b\b\b\b\b\b\b\b\b\b\b\b\b\n",
      "Epoch 96/201\n",
      "108/108 [==============================] - 0s 286us/sample - loss: 0.2602 - acc: 0.9259 - val_loss: 0.2429 - val_acc: 0.9167\b\b\b\b\b\b\b\b\b\b\b\b\b\b\b\b\b\b\b\b\b\b\b\b\b\b\b\b\b\b\b\b\b\b\n",
      "Epoch 97/201\n",
      "108/108 [==============================] - 0s 176us/sample - loss: 0.2692 - acc: 0.9444 - val_loss: 0.2800 - val_acc: 0.9167\b\b\b\b\b\b\b\b\b\b\b\b\b\b\b\b\b\b\b\b\b\b\b\b\b\b\b\b\b\b\b\b\b\b\n",
      "Epoch 98/201\n",
      "108/108 [==============================] - 0s 188us/sample - loss: 0.2594 - acc: 0.9630 - val_loss: 0.2980 - val_acc: 0.9167\b\b\b\b\b\b\b\b\b\b\b\b\b\b\b\b\b\b\b\b\b\b\b\b\b\b\b\b\b\b\b\b\b\b\n",
      "Epoch 99/201\n",
      "108/108 [==============================] - 0s 187us/sample - loss: 0.2589 - acc: 0.9630 - val_loss: 0.2945 - val_acc: 0.9167\b\b\b\b\b\b\b\b\b\b\b\b\b\b\b\b\b\b\b\b\b\b\b\b\b\b\b\b\b\b\b\b\b\b\n",
      "Epoch 100/201\n",
      "108/108 [==============================] - 0s 116us/sample - loss: 0.2562 - acc: 0.9444 - val_loss: 0.2457 - val_acc: 1.0000\b\b\b\b\b\b\b\b\b\b\b\b\b\b\b\b\b\b\b\b\b\b\b\b\b\b\b\b\b\b\b\b\b\b\n",
      "Epoch 101/201\n",
      "108/108 [==============================] - 0s 103us/sample - loss: 0.2548 - acc: 0.9722 - val_loss: 0.3473 - val_acc: 0.9167\b\b\b\b\b\b\b\b\b\b\b\b\b\b\b\b\b\b\b\b\b\b\b\b\b\b\b\b\b\b\b\b\b\b\n",
      "Epoch 102/201\n",
      "108/108 [==============================] - 0s 131us/sample - loss: 0.2771 - acc: 0.9352 - val_loss: 0.2330 - val_acc: 0.9167\b\b\b\b\b\b\b\b\b\b\b\b\b\b\b\b\b\b\b\b\b\b\b\b\b\b\b\b\b\b\b\b\b\b\n",
      "Epoch 103/201\n",
      "108/108 [==============================] - 0s 150us/sample - loss: 0.2520 - acc: 0.9444 - val_loss: 0.2941 - val_acc: 0.9167\b\b\b\b\b\b\b\b\b\b\b\b\b\b\b\b\b\b\b\b\b\b\b\b\b\b\b\b\b\b\b\b\b\b\n",
      "Epoch 104/201\n",
      "108/108 [==============================] - 0s 145us/sample - loss: 0.2574 - acc: 0.9537 - val_loss: 0.2558 - val_acc: 0.9167\b\b\b\b\b\b\b\b\b\b\b\b\b\b\b\b\b\b\b\b\b\b\b\b\b\b\b\b\b\b\b\b\b\b\n",
      "Epoch 105/201\n",
      "108/108 [==============================] - 0s 174us/sample - loss: 0.2413 - acc: 0.9722 - val_loss: 0.2941 - val_acc: 0.9167\b\b\b\b\b\b\b\b\b\b\b\b\b\b\b\b\b\b\b\b\b\b\b\b\b\b\b\b\b\b\b\b\b\b\n",
      "Epoch 106/201\n",
      "108/108 [==============================] - 0s 128us/sample - loss: 0.2432 - acc: 0.9259 - val_loss: 0.2773 - val_acc: 0.9167\b\b\b\b\b\b\b\b\b\b\b\b\b\b\b\b\b\b\b\b\b\b\b\b\b\b\b\b\b\b\b\b\b\b\n",
      "Epoch 107/201\n",
      "108/108 [==============================] - 0s 135us/sample - loss: 0.2395 - acc: 0.9630 - val_loss: 0.2378 - val_acc: 1.0000\b\b\b\b\b\b\b\b\b\b\b\b\b\b\b\b\b\b\b\b\b\b\b\b\b\b\b\b\b\b\b\b\b\b\n",
      "Epoch 108/201\n",
      "108/108 [==============================] - 0s 117us/sample - loss: 0.2396 - acc: 0.9630 - val_loss: 0.2173 - val_acc: 0.9167\b\b\b\b\b\b\b\b\b\b\b\b\b\b\b\b\b\b\b\b\b\b\b\b\b\b\b\b\b\b\b\b\b\b\n",
      "Epoch 109/201\n",
      "108/108 [==============================] - 0s 143us/sample - loss: 0.2547 - acc: 0.9537 - val_loss: 0.2231 - val_acc: 1.0000\b\b\b\b\b\b\b\b\b\b\b\b\b\b\b\b\b\b\b\b\b\b\b\b\b\b\b\b\b\b\b\b\b\b\n",
      "Epoch 110/201\n",
      "108/108 [==============================] - 0s 136us/sample - loss: 0.2379 - acc: 0.9537 - val_loss: 0.2191 - val_acc: 1.0000\b\b\b\b\b\b\b\b\b\b\b\b\b\b\b\b\b\b\b\b\b\b\b\b\b\b\b\b\b\b\b\b\b\b\n",
      "Epoch 111/201\n",
      "108/108 [==============================] - 0s 150us/sample - loss: 0.2342 - acc: 0.9722 - val_loss: 0.2124 - val_acc: 0.9167\b\b\b\b\b\b\b\b\b\b\b\b\b\b\b\b\b\b\b\b\b\b\b\b\b\b\b\b\b\b\b\b\b\b\n",
      "Epoch 112/201\n",
      "108/108 [==============================] - 0s 150us/sample - loss: 0.2398 - acc: 0.9630 - val_loss: 0.2092 - val_acc: 0.9167\b\b\b\b\b\b\b\b\b\b\b\b\b\b\b\b\b\b\b\b\b\b\b\b\b\b\b\b\b\b\b\b\b\b\n",
      "Epoch 113/201\n",
      "108/108 [==============================] - 0s 133us/sample - loss: 0.2390 - acc: 0.9537 - val_loss: 0.2409 - val_acc: 0.9167\b\b\b\b\b\b\b\b\b\b\b\b\b\b\b\b\b\b\b\b\b\b\b\b\b\b\b\b\b\b\b\b\b\b\n",
      "Epoch 114/201\n",
      "108/108 [==============================] - 0s 151us/sample - loss: 0.2242 - acc: 0.9630 - val_loss: 0.2300 - val_acc: 1.0000\b\b\b\b\b\b\b\b\b\b\b\b\b\b\b\b\b\b\b\b\b\b\b\b\b\b\b\b\b\b\b\b\b\b\n",
      "Epoch 115/201\n",
      "108/108 [==============================] - 0s 170us/sample - loss: 0.2227 - acc: 0.9722 - val_loss: 0.2661 - val_acc: 0.9167\b\b\b\b\b\b\b\b\b\b\b\b\b\b\b\b\b\b\b\b\b\b\b\b\b\b\b\b\b\b\b\b\b\b\n",
      "Epoch 116/201\n",
      "108/108 [==============================] - 0s 176us/sample - loss: 0.2307 - acc: 0.9444 - val_loss: 0.2678 - val_acc: 0.9167\b\b\b\b\b\b\b\b\b\b\b\b\b\b\b\b\b\b\b\b\b\b\b\b\b\b\b\b\b\b\b\b\b\b\n",
      "Epoch 117/201\n",
      "108/108 [==============================] - 0s 137us/sample - loss: 0.2273 - acc: 0.9630 - val_loss: 0.2275 - val_acc: 0.9167\b\b\b\b\b\b\b\b\b\b\b\b\b\b\b\b\b\b\b\b\b\b\b\b\b\b\b\b\b\b\b\b\b\b\n",
      "Epoch 118/201\n",
      "108/108 [==============================] - 0s 148us/sample - loss: 0.2261 - acc: 0.9722 - val_loss: 0.2392 - val_acc: 0.9167\b\b\b\b\b\b\b\b\b\b\b\b\b\b\b\b\b\b\b\b\b\b\b\b\b\b\b\b\b\b\b\b\b\b\n",
      "Epoch 119/201\n",
      "108/108 [==============================] - 0s 140us/sample - loss: 0.2183 - acc: 0.9537 - val_loss: 0.2129 - val_acc: 1.0000\b\b\b\b\b\b\b\b\b\b\b\b\b\b\b\b\b\b\b\b\b\b\b\b\b\b\b\b\b\b\b\b\b\b\n",
      "Epoch 120/201\n",
      "108/108 [==============================] - 0s 160us/sample - loss: 0.2207 - acc: 0.9630 - val_loss: 0.2243 - val_acc: 0.9167\b\b\b\b\b\b\b\b\b\b\b\b\b\b\b\b\b\b\b\b\b\b\b\b\b\b\b\b\b\b\b\b\b\b\n",
      "Epoch 121/201\n",
      "108/108 [==============================] - 0s 165us/sample - loss: 0.2196 - acc: 0.9630 - val_loss: 0.1932 - val_acc: 0.9167\b\b\b\b\b\b\b\b\b\b\b\b\b\b\b\b\b\b\b\b\b\b\b\b\b\b\b\b\b\b\b\b\b\b\n",
      "Epoch 122/201\n",
      "108/108 [==============================] - 0s 220us/sample - loss: 0.2182 - acc: 0.9444 - val_loss: 0.1916 - val_acc: 0.9167\b\b\b\b\b\b\b\b\b\b\b\b\b\b\b\b\b\b\b\b\b\b\b\b\b\b\b\b\b\b\b\b\b\b\n",
      "Epoch 123/201\n",
      "108/108 [==============================] - 0s 120us/sample - loss: 0.2227 - acc: 0.9537 - val_loss: 0.2475 - val_acc: 0.9167\b\b\b\b\b\b\b\b\b\b\b\b\b\b\b\b\b\b\b\b\b\b\b\b\b\b\b\b\b\b\b\b\b\b\n",
      "Epoch 124/201\n",
      "108/108 [==============================] - 0s 101us/sample - loss: 0.2155 - acc: 0.9352 - val_loss: 0.2113 - val_acc: 1.0000\b\b\b\b\b\b\b\b\b\b\b\b\b\b\b\b\b\b\b\b\b\b\b\b\b\b\b\b\b\b\b\b\b\b\n",
      "Epoch 125/201\n",
      "108/108 [==============================] - 0s 140us/sample - loss: 0.2200 - acc: 0.9537 - val_loss: 0.2364 - val_acc: 0.9167\b\b\b\b\b\b\b\b\b\b\b\b\b\b\b\b\b\b\b\b\b\b\b\b\b\b\b\b\b\b\b\b\b\b\n",
      "Epoch 126/201\n",
      "108/108 [==============================] - 0s 147us/sample - loss: 0.2065 - acc: 0.9537 - val_loss: 0.1894 - val_acc: 1.0000\b\b\b\b\b\b\b\b\b\b\b\b\b\b\b\b\b\b\b\b\b\b\b\b\b\b\b\b\b\b\b\b\b\b\n",
      "Epoch 127/201\n",
      "108/108 [==============================] - 0s 155us/sample - loss: 0.2152 - acc: 0.9537 - val_loss: 0.2257 - val_acc: 0.9167\b\b\b\b\b\b\b\b\b\b\b\b\b\b\b\b\b\b\b\b\b\b\b\b\b\b\b\b\b\b\b\b\b\b\n",
      "Epoch 128/201\n",
      "108/108 [==============================] - 0s 166us/sample - loss: 0.2004 - acc: 0.9722 - val_loss: 0.1867 - val_acc: 1.0000\b\b\b\b\b\b\b\b\b\b\b\b\b\b\b\b\b\b\b\b\b\b\b\b\b\b\b\b\b\b\b\b\b\b\n",
      "Epoch 129/201\n",
      "108/108 [==============================] - 0s 138us/sample - loss: 0.2059 - acc: 0.9722 - val_loss: 0.2818 - val_acc: 0.9167\b\b\b\b\b\b\b\b\b\b\b\b\b\b\b\b\b\b\b\b\b\b\b\b\b\b\b\b\b\b\b\b\b\b\n",
      "Epoch 130/201\n",
      "108/108 [==============================] - 0s 139us/sample - loss: 0.2062 - acc: 0.9352 - val_loss: 0.1805 - val_acc: 0.9167\b\b\b\b\b\b\b\b\b\b\b\b\b\b\b\b\b\b\b\b\b\b\b\b\b\b\b\b\b\b\b\b\b\b\n",
      "Epoch 131/201\n",
      "108/108 [==============================] - 0s 112us/sample - loss: 0.2033 - acc: 0.9722 - val_loss: 0.2098 - val_acc: 0.9167\b\b\b\b\b\b\b\b\b\b\b\b\b\b\b\b\b\b\b\b\b\b\b\b\b\b\b\b\b\b\b\b\b\b\n",
      "Epoch 132/201\n",
      "108/108 [==============================] - 0s 135us/sample - loss: 0.1974 - acc: 0.9722 - val_loss: 0.2077 - val_acc: 0.9167\b\b\b\b\b\b\b\b\b\b\b\b\b\b\b\b\b\b\b\b\b\b\b\b\b\b\b\b\b\b\b\b\b\b\n",
      "Epoch 133/201\n",
      "108/108 [==============================] - 0s 138us/sample - loss: 0.1962 - acc: 0.9722 - val_loss: 0.2064 - val_acc: 0.9167\b\b\b\b\b\b\b\b\b\b\b\b\b\b\b\b\b\b\b\b\b\b\b\b\b\b\b\b\b\b\b\b\b\b\n",
      "Epoch 134/201\n",
      "108/108 [==============================] - 0s 302us/sample - loss: 0.2035 - acc: 0.9537 - val_loss: 0.1755 - val_acc: 0.9167\b\b\b\b\b\b\b\b\b\b\b\b\b\b\b\b\b\b\b\b\b\b\b\b\b\b\b\b\b\b\b\b\b\b\n",
      "Epoch 135/201\n",
      "108/108 [==============================] - 0s 162us/sample - loss: 0.2024 - acc: 0.9537 - val_loss: 0.2072 - val_acc: 0.9167\b\b\b\b\b\b\b\b\b\b\b\b\b\b\b\b\b\b\b\b\b\b\b\b\b\b\b\b\b\b\b\b\b\b\n",
      "Epoch 136/201\n",
      "108/108 [==============================] - 0s 148us/sample - loss: 0.2051 - acc: 0.9537 - val_loss: 0.1776 - val_acc: 0.9167\b\b\b\b\b\b\b\b\b\b\b\b\b\b\b\b\b\b\b\b\b\b\b\b\b\b\b\b\b\b\b\b\b\b\n",
      "Epoch 137/201\n",
      "108/108 [==============================] - 0s 110us/sample - loss: 0.2260 - acc: 0.9444 - val_loss: 0.1741 - val_acc: 1.0000\b\b\b\b\b\b\b\b\b\b\b\b\b\b\b\b\b\b\b\b\b\b\b\b\b\b\b\b\b\b\b\b\b\b\n",
      "Epoch 138/201\n",
      "108/108 [==============================] - 0s 152us/sample - loss: 0.2003 - acc: 0.9722 - val_loss: 0.2402 - val_acc: 0.9167\b\b\b\b\b\b\b\b\b\b\b\b\b\b\b\b\b\b\b\b\b\b\b\b\b\b\b\b\b\b\b\b\b\b\n",
      "Epoch 139/201\n",
      "108/108 [==============================] - 0s 134us/sample - loss: 0.2062 - acc: 0.9352 - val_loss: 0.1843 - val_acc: 1.0000\b\b\b\b\b\b\b\b\b\b\b\b\b\b\b\b\b\b\b\b\b\b\b\b\b\b\b\b\b\b\b\b\b\b\n",
      "Epoch 140/201\n",
      "108/108 [==============================] - 0s 184us/sample - loss: 0.1853 - acc: 0.9722 - val_loss: 0.2037 - val_acc: 0.9167\b\b\b\b\b\b\b\b\b\b\b\b\b\b\b\b\b\b\b\b\b\b\b\b\b\b\b\b\b\b\b\b\b\b\n",
      "Epoch 141/201\n",
      "108/108 [==============================] - 0s 143us/sample - loss: 0.1925 - acc: 0.9444 - val_loss: 0.1772 - val_acc: 1.0000\b\b\b\b\b\b\b\b\b\b\b\b\b\b\b\b\b\b\b\b\b\b\b\b\b\b\b\b\b\b\b\b\b\b\n",
      "Epoch 142/201\n",
      "108/108 [==============================] - 0s 118us/sample - loss: 0.1954 - acc: 0.9444 - val_loss: 0.2337 - val_acc: 0.9167\b\b\b\b\b\b\b\b\b\b\b\b\b\b\b\b\b\b\b\b\b\b\b\b\b\b\b\b\b\b\b\b\b\b\n",
      "Epoch 143/201\n",
      "108/108 [==============================] - 0s 122us/sample - loss: 0.1874 - acc: 0.9537 - val_loss: 0.1676 - val_acc: 1.0000\b\b\b\b\b\b\b\b\b\b\b\b\b\b\b\b\b\b\b\b\b\b\b\b\b\b\b\b\b\b\b\b\b\b\n",
      "Epoch 144/201\n",
      "108/108 [==============================] - 0s 134us/sample - loss: 0.1801 - acc: 0.9722 - val_loss: 0.2179 - val_acc: 0.9167\b\b\b\b\b\b\b\b\b\b\b\b\b\b\b\b\b\b\b\b\b\b\b\b\b\b\b\b\b\b\b\b\b\b\n",
      "Epoch 145/201\n",
      "108/108 [==============================] - 0s 119us/sample - loss: 0.2107 - acc: 0.9259 - val_loss: 0.1619 - val_acc: 1.0000\b\b\b\b\b\b\b\b\b\b\b\b\b\b\b\b\b\b\b\b\b\b\b\b\b\b\b\b\b\b\b\b\b\b\n",
      "Epoch 146/201\n",
      "108/108 [==============================] - 0s 115us/sample - loss: 0.1825 - acc: 0.9630 - val_loss: 0.1616 - val_acc: 0.9167\b\b\b\b\b\b\b\b\b\b\b\b\b\b\b\b\b\b\b\b\b\b\b\b\b\b\b\b\b\b\b\b\b\b\n",
      "Epoch 147/201\n",
      "108/108 [==============================] - 0s 122us/sample - loss: 0.1867 - acc: 0.9444 - val_loss: 0.1729 - val_acc: 1.0000\b\b\b\b\b\b\b\b\b\b\b\b\b\b\b\b\b\b\b\b\b\b\b\b\b\b\b\b\b\b\b\b\b\b\n",
      "Epoch 148/201\n",
      "108/108 [==============================] - 0s 142us/sample - loss: 0.1899 - acc: 0.9444 - val_loss: 0.1627 - val_acc: 1.0000\b\b\b\b\b\b\b\b\b\b\b\b\b\b\b\b\b\b\b\b\b\b\b\b\b\b\b\b\b\b\b\b\b\b\n",
      "Epoch 149/201\n",
      "108/108 [==============================] - 0s 157us/sample - loss: 0.1896 - acc: 0.9722 - val_loss: 0.1573 - val_acc: 1.0000\b\b\b\b\b\b\b\b\b\b\b\b\b\b\b\b\b\b\b\b\b\b\b\b\b\b\b\b\b\b\b\b\b\b\n",
      "Epoch 150/201\n",
      "108/108 [==============================] - 0s 129us/sample - loss: 0.1826 - acc: 0.9537 - val_loss: 0.1607 - val_acc: 1.0000\b\b\b\b\b\b\b\b\b\b\b\b\b\b\b\b\b\b\b\b\b\b\b\b\b\b\b\b\b\b\b\b\b\b\n",
      "Epoch 151/201\n",
      "108/108 [==============================] - 0s 199us/sample - loss: 0.1766 - acc: 0.9722 - val_loss: 0.1967 - val_acc: 0.9167\b\b\b\b\b\b\b\b\b\b\b\b\b\b\b\b\b\b\b\b\b\b\b\b\b\b\b\b\b\b\b\b\b\b\n",
      "Epoch 152/201\n",
      "108/108 [==============================] - 0s 157us/sample - loss: 0.1816 - acc: 0.9630 - val_loss: 0.2767 - val_acc: 0.9167\b\b\b\b\b\b\b\b\b\b\b\b\b\b\b\b\b\b\b\b\b\b\b\b\b\b\b\b\b\b\b\b\b\b\n",
      "Epoch 153/201\n",
      "108/108 [==============================] - 0s 161us/sample - loss: 0.2079 - acc: 0.9259 - val_loss: 0.1716 - val_acc: 1.0000\b\b\b\b\b\b\b\b\b\b\b\b\b\b\b\b\b\b\b\b\b\b\b\b\b\b\b\b\b\b\b\b\b\b\n",
      "Epoch 154/201\n",
      "108/108 [==============================] - 0s 133us/sample - loss: 0.1684 - acc: 0.9722 - val_loss: 0.1514 - val_acc: 0.9167\b\b\b\b\b\b\b\b\b\b\b\b\b\b\b\b\b\b\b\b\b\b\b\b\b\b\b\b\b\b\b\b\b\b\n",
      "Epoch 155/201\n",
      "108/108 [==============================] - 0s 109us/sample - loss: 0.1689 - acc: 0.9630 - val_loss: 0.1831 - val_acc: 0.9167\b\b\b\b\b\b\b\b\b\b\b\b\b\b\b\b\b\b\b\b\b\b\b\b\b\b\b\b\b\b\b\b\b\b\n",
      "Epoch 156/201\n",
      "108/108 [==============================] - 0s 164us/sample - loss: 0.1731 - acc: 0.9722 - val_loss: 0.1861 - val_acc: 0.9167\b\b\b\b\b\b\b\b\b\b\b\b\b\b\b\b\b\b\b\b\b\b\b\b\b\b\b\b\b\b\b\b\b\b\n",
      "Epoch 157/201\n",
      "108/108 [==============================] - 0s 216us/sample - loss: 0.1728 - acc: 0.9722 - val_loss: 0.1491 - val_acc: 1.0000\b\b\b\b\b\b\b\b\b\b\b\b\b\b\b\b\b\b\b\b\b\b\b\b\b\b\b\b\b\b\b\b\b\b\n",
      "Epoch 158/201\n",
      "108/108 [==============================] - 0s 94us/sample - loss: 0.1839 - acc: 0.9630 - val_loss: 0.1486 - val_acc: 1.0000\b\b\b\b\b\b\b\b\b\b\b\b\b\b\b\b\b\b\b\b\b\b\b\b\b\b\b\b\b\b\b\b\b\b\b\n",
      "Epoch 159/201\n",
      "108/108 [==============================] - 0s 101us/sample - loss: 0.1666 - acc: 0.9722 - val_loss: 0.1714 - val_acc: 0.9167\b\b\b\b\b\b\b\b\b\b\b\b\b\b\b\b\b\b\b\b\b\b\b\b\b\b\b\b\b\b\b\b\b\b\n",
      "Epoch 160/201\n",
      "108/108 [==============================] - 0s 120us/sample - loss: 0.1695 - acc: 0.9537 - val_loss: 0.1527 - val_acc: 1.0000\b\b\b\b\b\b\b\b\b\b\b\b\b\b\b\b\b\b\b\b\b\b\b\b\b\b\b\b\b\b\b\b\b\b\n",
      "Epoch 161/201\n",
      "108/108 [==============================] - 0s 134us/sample - loss: 0.1667 - acc: 0.9630 - val_loss: 0.1833 - val_acc: 0.9167\b\b\b\b\b\b\b\b\b\b\b\b\b\b\b\b\b\b\b\b\b\b\b\b\b\b\b\b\b\b\b\b\b\b\n",
      "Epoch 162/201\n",
      "108/108 [==============================] - 0s 135us/sample - loss: 0.1760 - acc: 0.9352 - val_loss: 0.1579 - val_acc: 1.0000\b\b\b\b\b\b\b\b\b\b\b\b\b\b\b\b\b\b\b\b\b\b\b\b\b\b\b\b\b\b\b\b\b\b\n",
      "Epoch 163/201\n",
      "108/108 [==============================] - 0s 113us/sample - loss: 0.1713 - acc: 0.9722 - val_loss: 0.1662 - val_acc: 0.9167\b\b\b\b\b\b\b\b\b\b\b\b\b\b\b\b\b\b\b\b\b\b\b\b\b\b\b\b\b\b\b\b\b\b\n",
      "Epoch 164/201\n",
      "108/108 [==============================] - 0s 132us/sample - loss: 0.1627 - acc: 0.9722 - val_loss: 0.1686 - val_acc: 0.9167\b\b\b\b\b\b\b\b\b\b\b\b\b\b\b\b\b\b\b\b\b\b\b\b\b\b\b\b\b\b\b\b\b\b\n",
      "Epoch 165/201\n",
      "108/108 [==============================] - 0s 176us/sample - loss: 0.1638 - acc: 0.9722 - val_loss: 0.1497 - val_acc: 1.0000\b\b\b\b\b\b\b\b\b\b\b\b\b\b\b\b\b\b\b\b\b\b\b\b\b\b\b\b\b\b\b\b\b\b\n",
      "Epoch 166/201\n",
      "108/108 [==============================] - 0s 129us/sample - loss: 0.1590 - acc: 0.9722 - val_loss: 0.1540 - val_acc: 1.0000\b\b\b\b\b\b\b\b\b\b\b\b\b\b\b\b\b\b\b\b\b\b\b\b\b\b\b\b\b\b\b\b\b\b\n",
      "Epoch 167/201\n",
      "108/108 [==============================] - 0s 146us/sample - loss: 0.1600 - acc: 0.9722 - val_loss: 0.1701 - val_acc: 0.9167\b\b\b\b\b\b\b\b\b\b\b\b\b\b\b\b\b\b\b\b\b\b\b\b\b\b\b\b\b\b\b\b\b\b\n",
      "Epoch 168/201\n",
      "108/108 [==============================] - 0s 125us/sample - loss: 0.1633 - acc: 0.9630 - val_loss: 0.1853 - val_acc: 0.9167\b\b\b\b\b\b\b\b\b\b\b\b\b\b\b\b\b\b\b\b\b\b\b\b\b\b\b\b\b\b\b\b\b\b\n",
      "Epoch 169/201\n",
      "108/108 [==============================] - 0s 103us/sample - loss: 0.1636 - acc: 0.9537 - val_loss: 0.1389 - val_acc: 1.0000\b\b\b\b\b\b\b\b\b\b\b\b\b\b\b\b\b\b\b\b\b\b\b\b\b\b\b\b\b\b\b\b\b\b\n",
      "Epoch 170/201\n",
      "108/108 [==============================] - 0s 114us/sample - loss: 0.1642 - acc: 0.9630 - val_loss: 0.1493 - val_acc: 1.0000\b\b\b\b\b\b\b\b\b\b\b\b\b\b\b\b\b\b\b\b\b\b\b\b\b\b\b\b\b\b\b\b\b\b\n",
      "Epoch 171/201\n",
      "108/108 [==============================] - 0s 122us/sample - loss: 0.1758 - acc: 0.9537 - val_loss: 0.1480 - val_acc: 1.0000\b\b\b\b\b\b\b\b\b\b\b\b\b\b\b\b\b\b\b\b\b\b\b\b\b\b\b\b\b\b\b\b\b\b\n",
      "Epoch 172/201\n",
      "108/108 [==============================] - 0s 229us/sample - loss: 0.1596 - acc: 0.9722 - val_loss: 0.1744 - val_acc: 0.9167\b\b\b\b\b\b\b\b\b\b\b\b\b\b\b\b\b\b\b\b\b\b\b\b\b\b\b\b\b\b\b\b\b\b\n",
      "Epoch 173/201\n",
      "108/108 [==============================] - 0s 219us/sample - loss: 0.1650 - acc: 0.9630 - val_loss: 0.1362 - val_acc: 0.9167\b\b\b\b\b\b\b\b\b\b\b\b\b\b\b\b\b\b\b\b\b\b\b\b\b\b\b\b\b\b\b\b\b\b\n",
      "Epoch 174/201\n",
      "108/108 [==============================] - 0s 116us/sample - loss: 0.1719 - acc: 0.9537 - val_loss: 0.1364 - val_acc: 1.0000\b\b\b\b\b\b\b\b\b\b\b\b\b\b\b\b\b\b\b\b\b\b\b\b\b\b\b\b\b\b\b\b\b\b\n",
      "Epoch 175/201\n",
      "108/108 [==============================] - 0s 101us/sample - loss: 0.1576 - acc: 0.9722 - val_loss: 0.1333 - val_acc: 0.9167\b\b\b\b\b\b\b\b\b\b\b\b\b\b\b\b\b\b\b\b\b\b\b\b\b\b\b\b\b\b\b\b\b\b\n",
      "Epoch 176/201\n",
      "108/108 [==============================] - 0s 96us/sample - loss: 0.1717 - acc: 0.9352 - val_loss: 0.1701 - val_acc: 0.9167\b\b\b\b\b\b\b\b\b\b\b\b\b\b\b\b\b\b\b\b\b\b\b\b\b\b\b\b\b\b\b\b\b\b\b\n",
      "Epoch 177/201\n",
      "108/108 [==============================] - 0s 127us/sample - loss: 0.1754 - acc: 0.9444 - val_loss: 0.1378 - val_acc: 1.0000\b\b\b\b\b\b\b\b\b\b\b\b\b\b\b\b\b\b\b\b\b\b\b\b\b\b\b\b\b\b\b\b\b\b\n",
      "Epoch 178/201\n",
      "108/108 [==============================] - 0s 129us/sample - loss: 0.1656 - acc: 0.9537 - val_loss: 0.1333 - val_acc: 1.0000\b\b\b\b\b\b\b\b\b\b\b\b\b\b\b\b\b\b\b\b\b\b\b\b\b\b\b\b\b\b\b\b\b\b\n",
      "Epoch 179/201\n",
      "108/108 [==============================] - 0s 123us/sample - loss: 0.1488 - acc: 0.9722 - val_loss: 0.1308 - val_acc: 1.0000\b\b\b\b\b\b\b\b\b\b\b\b\b\b\b\b\b\b\b\b\b\b\b\b\b\b\b\b\b\b\b\b\b\b\n",
      "Epoch 180/201\n",
      "108/108 [==============================] - 0s 110us/sample - loss: 0.1490 - acc: 0.9722 - val_loss: 0.1368 - val_acc: 1.0000\b\b\b\b\b\b\b\b\b\b\b\b\b\b\b\b\b\b\b\b\b\b\b\b\b\b\b\b\b\b\b\b\b\b\n",
      "Epoch 181/201\n",
      "108/108 [==============================] - 0s 144us/sample - loss: 0.1656 - acc: 0.9444 - val_loss: 0.1425 - val_acc: 1.0000\b\b\b\b\b\b\b\b\b\b\b\b\b\b\b\b\b\b\b\b\b\b\b\b\b\b\b\b\b\b\b\b\b\b\n",
      "Epoch 182/201\n",
      "108/108 [==============================] - 0s 177us/sample - loss: 0.1639 - acc: 0.9537 - val_loss: 0.1388 - val_acc: 1.0000\b\b\b\b\b\b\b\b\b\b\b\b\b\b\b\b\b\b\b\b\b\b\b\b\b\b\b\b\b\b\b\b\b\b\n",
      "Epoch 183/201\n",
      "108/108 [==============================] - 0s 143us/sample - loss: 0.1494 - acc: 0.9722 - val_loss: 0.1436 - val_acc: 1.0000\b\b\b\b\b\b\b\b\b\b\b\b\b\b\b\b\b\b\b\b\b\b\b\b\b\b\b\b\b\b\b\b\b\b\n",
      "Epoch 184/201\n",
      "108/108 [==============================] - 0s 167us/sample - loss: 0.1549 - acc: 0.9722 - val_loss: 0.1278 - val_acc: 0.9167\b\b\b\b\b\b\b\b\b\b\b\b\b\b\b\b\b\b\b\b\b\b\b\b\b\b\b\b\b\b\b\b\b\b\n",
      "Epoch 185/201\n",
      "108/108 [==============================] - 0s 150us/sample - loss: 0.1592 - acc: 0.9352 - val_loss: 0.1285 - val_acc: 1.0000\b\b\b\b\b\b\b\b\b\b\b\b\b\b\b\b\b\b\b\b\b\b\b\b\b\b\b\b\b\b\b\b\b\b\n",
      "Epoch 186/201\n",
      "108/108 [==============================] - 0s 104us/sample - loss: 0.1462 - acc: 0.9722 - val_loss: 0.1294 - val_acc: 0.9167\b\b\b\b\b\b\b\b\b\b\b\b\b\b\b\b\b\b\b\b\b\b\b\b\b\b\b\b\b\b\b\b\b\b\n",
      "Epoch 187/201\n",
      "108/108 [==============================] - 0s 117us/sample - loss: 0.1660 - acc: 0.9444 - val_loss: 0.1334 - val_acc: 1.0000\b\b\b\b\b\b\b\b\b\b\b\b\b\b\b\b\b\b\b\b\b\b\b\b\b\b\b\b\b\b\b\b\b\b\n",
      "Epoch 188/201\n",
      "108/108 [==============================] - 0s 136us/sample - loss: 0.1668 - acc: 0.9630 - val_loss: 0.1275 - val_acc: 1.0000\b\b\b\b\b\b\b\b\b\b\b\b\b\b\b\b\b\b\b\b\b\b\b\b\b\b\b\b\b\b\b\b\b\b\n",
      "Epoch 189/201\n",
      "108/108 [==============================] - 0s 162us/sample - loss: 0.1440 - acc: 0.9722 - val_loss: 0.1281 - val_acc: 0.9167\b\b\b\b\b\b\b\b\b\b\b\b\b\b\b\b\b\b\b\b\b\b\b\b\b\b\b\b\b\b\b\b\b\b\n",
      "Epoch 190/201\n",
      "108/108 [==============================] - 0s 104us/sample - loss: 0.1476 - acc: 0.9630 - val_loss: 0.1233 - val_acc: 1.0000\b\b\b\b\b\b\b\b\b\b\b\b\b\b\b\b\b\b\b\b\b\b\b\b\b\b\b\b\b\b\b\b\b\b\n",
      "Epoch 191/201\n",
      "108/108 [==============================] - 0s 112us/sample - loss: 0.1435 - acc: 0.9722 - val_loss: 0.1626 - val_acc: 0.9167\b\b\b\b\b\b\b\b\b\b\b\b\b\b\b\b\b\b\b\b\b\b\b\b\b\b\b\b\b\b\b\b\b\b\n",
      "Epoch 192/201\n",
      "108/108 [==============================] - 0s 133us/sample - loss: 0.1430 - acc: 0.9630 - val_loss: 0.1229 - val_acc: 0.9167\b\b\b\b\b\b\b\b\b\b\b\b\b\b\b\b\b\b\b\b\b\b\b\b\b\b\b\b\b\b\b\b\b\b\n",
      "Epoch 193/201\n",
      "108/108 [==============================] - 0s 242us/sample - loss: 0.1425 - acc: 0.9815 - val_loss: 0.1235 - val_acc: 1.0000\b\b\b\b\b\b\b\b\b\b\b\b\b\b\b\b\b\b\b\b\b\b\b\b\b\b\b\b\b\b\b\b\b\b\n",
      "Epoch 194/201\n",
      "108/108 [==============================] - 0s 119us/sample - loss: 0.1654 - acc: 0.9537 - val_loss: 0.1412 - val_acc: 0.9167\b\b\b\b\b\b\b\b\b\b\b\b\b\b\b\b\b\b\b\b\b\b\b\b\b\b\b\b\b\b\b\b\b\b\n",
      "Epoch 195/201\n",
      "108/108 [==============================] - 0s 105us/sample - loss: 0.1812 - acc: 0.9352 - val_loss: 0.1193 - val_acc: 1.0000\b\b\b\b\b\b\b\b\b\b\b\b\b\b\b\b\b\b\b\b\b\b\b\b\b\b\b\b\b\b\b\b\b\b\n",
      "Epoch 196/201\n",
      "108/108 [==============================] - 0s 163us/sample - loss: 0.1421 - acc: 0.9815 - val_loss: 0.1591 - val_acc: 0.9167\b\b\b\b\b\b\b\b\b\b\b\b\b\b\b\b\b\b\b\b\b\b\b\b\b\b\b\b\b\b\b\b\b\b\n",
      "Epoch 197/201\n",
      "108/108 [==============================] - 0s 151us/sample - loss: 0.1442 - acc: 0.9722 - val_loss: 0.1328 - val_acc: 1.0000\b\b\b\b\b\b\b\b\b\b\b\b\b\b\b\b\b\b\b\b\b\b\b\b\b\b\b\b\b\b\b\b\b\b\n",
      "Epoch 198/201\n",
      "108/108 [==============================] - 0s 154us/sample - loss: 0.1621 - acc: 0.9444 - val_loss: 0.1243 - val_acc: 1.0000\b\b\b\b\b\b\b\b\b\b\b\b\b\b\b\b\b\b\b\b\b\b\b\b\b\b\b\b\b\b\b\b\b\b\n",
      "Epoch 199/201\n",
      "108/108 [==============================] - 0s 152us/sample - loss: 0.1381 - acc: 0.9722 - val_loss: 0.1181 - val_acc: 1.0000\b\b\b\b\b\b\b\b\b\b\b\b\b\b\b\b\b\b\b\b\b\b\b\b\b\b\b\b\b\b\b\b\b\b\n",
      "Epoch 200/201\n",
      "108/108 [==============================] - 0s 130us/sample - loss: 0.1378 - acc: 0.9722 - val_loss: 0.1205 - val_acc: 1.0000\b\b\b\b\b\b\b\b\b\b\b\b\b\b\b\b\b\b\b\b\b\b\b\b\b\b\b\b\b\b\b\b\b\b\n",
      "Epoch 201/201\n",
      "108/108 [==============================] - 0s 106us/sample - loss: 0.1428 - acc: 0.9722 - val_loss: 0.1315 - val_acc: 1.0000\b\b\b\b\b\b\b\b\b\b\b\b\b\b\b\b\b\b\b\b\b\b\b\b\b\b\b\b\b\b\b\b\b\b\n"
     ],
     "output_type": "stream"
    },
    {
     "data": {
      "text/plain": "<tensorflow.python.keras.callbacks.History at 0x13fdff048>"
     },
     "metadata": {},
     "output_type": "execute_result",
     "execution_count": 13
    }
   ],
   "source": [
    "model.fit(features, labels, epochs=201, batch_size=batch_size, validation_split=0.1)"
   ],
   "metadata": {
    "collapsed": false,
    "pycharm": {
     "name": "#%%\n",
     "is_executing": false
    }
   }
  },
  {
   "cell_type": "code",
   "execution_count": 15,
   "outputs": [
    {
     "name": "stdout",
     "text": [
      "120/120 [==============================] - 0s 41us/sample - loss: 0.1412 - acc: 0.9750\b\b\b\b\b\b\b\b\b\b\b\b\b\b\b\b\b\b\b\b\b\b\b\b\b\b\b\b\b\b\b\b\b\b\b\b\b\b\b\b\b\b\b\b\b\b\b\b\b\b\b\b\b\b\b\b\b\b\b\b\b\b\b\b\b\b\b\b\b\b\b\b\n"
     ],
     "output_type": "stream"
    },
    {
     "data": {
      "text/plain": "[0.14119157294432322, 0.975]"
     },
     "metadata": {},
     "output_type": "execute_result",
     "execution_count": 15
    }
   ],
   "source": [
    "model.evaluate(features, labels)"
   ],
   "metadata": {
    "collapsed": false,
    "pycharm": {
     "name": "#%%\n",
     "is_executing": false
    }
   }
  },
  {
   "cell_type": "code",
   "execution_count": 14,
   "outputs": [],
   "source": [
    "\n"
   ],
   "metadata": {
    "collapsed": false,
    "pycharm": {
     "name": "#%%\n",
     "is_executing": false
    }
   }
  }
 ],
 "metadata": {
  "kernelspec": {
   "display_name": "Python 3",
   "language": "python",
   "name": "python3"
  },
  "language_info": {
   "codemirror_mode": {
    "name": "ipython",
    "version": 2
   },
   "file_extension": ".py",
   "mimetype": "text/x-python",
   "name": "python",
   "nbconvert_exporter": "python",
   "pygments_lexer": "ipython2",
   "version": "2.7.6"
  },
  "pycharm": {
   "stem_cell": {
    "cell_type": "raw",
    "source": [],
    "metadata": {
     "collapsed": false
    }
   }
  }
 },
 "nbformat": 4,
 "nbformat_minor": 0
}